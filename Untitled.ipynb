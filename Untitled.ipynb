{
 "cells": [
  {
   "cell_type": "code",
   "execution_count": 6,
   "id": "83421257",
   "metadata": {},
   "outputs": [
    {
     "name": "stdout",
     "output_type": "stream",
     "text": [
      "Reading your vosk model './vosk-model-en-us-0.22-lgraph'...\n",
      "'./vosk-model-en-us-0.22-lgraph' model was successfully read\n"
     ]
    }
   ],
   "source": [
    "import os\n",
    "import sys\n",
    "import wave\n",
    "import json\n",
    "\n",
    "from vosk import Model, KaldiRecognizer, SetLogLevel\n",
    "# !pip install vosk\n",
    "\n",
    "\n",
    "SetLogLevel(0)\n",
    "\n",
    "model_path = \"./vosk-model-en-us-0.22-lgraph\"\n",
    "\n",
    "if not os.path.exists(model_path):\n",
    "    print(f\"Please download the model from https://alphacephei.com/vosk/models and unpack as {model_path}\")\n",
    "    sys.exit()\n",
    "\n",
    "print(f\"Reading your vosk model '{model_path}'...\")\n",
    "model = Model(model_path)\n",
    "print(f\"'{model_path}' model was successfully read\")"
   ]
  },
  {
   "cell_type": "code",
   "execution_count": 7,
   "id": "e1b8ab8f",
   "metadata": {},
   "outputs": [],
   "source": [
    "import os\n",
    "video_path = input()\n",
    "if not os.path.exists(video_path):\n",
    "    print(\"Неверный путь\")\n",
    "    exit(1)"
   ]
  },
  {
   "cell_type": "code",
   "execution_count": 8,
   "id": "cae188a5",
   "metadata": {},
   "outputs": [
    {
     "name": "stdout",
     "output_type": "stream",
     "text": [
      "MoviePy - Writing audio in xd1.wav\n"
     ]
    },
    {
     "name": "stderr",
     "output_type": "stream",
     "text": [
      "                                                                      \r"
     ]
    },
    {
     "name": "stdout",
     "output_type": "stream",
     "text": [
      "MoviePy - Done.\n"
     ]
    }
   ],
   "source": [
    "from moviepy.editor import *\n",
    "\n",
    "clip  = VideoFileClip(video_path)\n",
    "audio = clip.audio\n",
    "audio.write_audiofile('xd1.wav', ffmpeg_params=[\"-ac\", \"1\"])"
   ]
  },
  {
   "cell_type": "code",
   "execution_count": 9,
   "id": "f86cc4f4",
   "metadata": {},
   "outputs": [
    {
     "name": "stdout",
     "output_type": "stream",
     "text": [
      "Reading your file './xd1.wav'...\n",
      "'./xd1.wav' file was successfully read\n"
     ]
    }
   ],
   "source": [
    "# name of the audio file to recognize\n",
    "audio_filename = \"./xd1.wav\"\n",
    "# name of the text file to write recognized text\n",
    "text_filename = \"./speech_recognition_systems_vosk_with_timestamps.txt\"\n",
    "\n",
    "if not os.path.exists(audio_filename):\n",
    "    print(f\"File '{audio_filename}' doesn't exist\")\n",
    "    sys.exit()\n",
    "\n",
    "print(f\"Reading your file '{audio_filename}'...\")\n",
    "wf = wave.open(audio_filename, \"rb\")\n",
    "params = wf.getparams()\n",
    "wav_len = params.nframes/params.framerate\n",
    "print(f\"'{audio_filename}' file was successfully read\")\n",
    "\n",
    " # check if audio is mono wav\n",
    "if wf.getnchannels() != 1 or wf.getsampwidth() != 2 or wf.getcomptype() != \"NONE\":\n",
    "    print(\"Audio file must be WAV format mono PCM.\")\n",
    "    sys.exit()"
   ]
  },
  {
   "cell_type": "code",
   "execution_count": 10,
   "id": "54ec41b0",
   "metadata": {},
   "outputs": [],
   "source": [
    "rec = KaldiRecognizer(model, wf.getframerate())\n",
    "rec.SetWords(True)\n",
    "results = []\n",
    "# recognize speech using vosk model\n",
    "while True:\n",
    "    data = wf.readframes(4000)\n",
    "    if len(data) == 0:\n",
    "        break\n",
    "    if rec.AcceptWaveform(data):\n",
    "        part_result = json.loads(rec.Result())\n",
    "        results.append(part_result)\n",
    "\n",
    "part_result = json.loads(rec.FinalResult())\n",
    "results.append(part_result)"
   ]
  },
  {
   "cell_type": "code",
   "execution_count": 11,
   "id": "3a9e579e",
   "metadata": {},
   "outputs": [],
   "source": [
    "import csv\n",
    "data = []\n",
    "file = open(\"output.csv\", \"wt\", newline='')\n",
    "writer = csv.writer(file, delimiter=',', quotechar='\"', quoting=csv.QUOTE_MINIMAL)\n",
    "writer.writerow([\"word\", \"begin\", \"end\", \"big_begin\", \"big_end\"])\n",
    "for res in results:\n",
    "    words = res['result']\n",
    "    for word in words:\n",
    "        if word['conf'] < 0.7:\n",
    "            continue\n",
    "        writer.writerows([[str(word['word']), str(max(0, word['start'])), str(word['end']),\n",
    "                           str(max(0, word['start'] - 5)), str(min(wav_len, word['end'] + 5))]])\n",
    "file.close()"
   ]
  }
 ],
 "metadata": {
  "kernelspec": {
   "display_name": "Python 3",
   "language": "python",
   "name": "python3"
  },
  "language_info": {
   "codemirror_mode": {
    "name": "ipython",
    "version": 3
   },
   "file_extension": ".py",
   "mimetype": "text/x-python",
   "name": "python",
   "nbconvert_exporter": "python",
   "pygments_lexer": "ipython3",
   "version": "3.8.10"
  }
 },
 "nbformat": 4,
 "nbformat_minor": 5
}
