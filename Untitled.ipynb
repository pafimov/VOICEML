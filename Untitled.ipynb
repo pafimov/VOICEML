{
 "cells": [
  {
   "cell_type": "code",
   "execution_count": 4,
   "id": "83421257",
   "metadata": {},
   "outputs": [
    {
     "name": "stdout",
     "output_type": "stream",
     "text": [
      "Reading your vosk model './vosk-model-en-us-0.22-lgraph'...\n",
      "'./vosk-model-en-us-0.22-lgraph' model was successfully read\n"
     ]
    }
   ],
   "source": [
    "import os\n",
    "import sys\n",
    "import wave\n",
    "import json\n",
    "\n",
    "from vosk import Model, KaldiRecognizer, SetLogLevel\n",
    "# !pip install vosk\n",
    "\n",
    "\n",
    "SetLogLevel(0)\n",
    "\n",
    "model_path = \"./vosk-model-en-us-0.22-lgraph\"\n",
    "\n",
    "if not os.path.exists(model_path):\n",
    "    print(f\"Please download the model from https://alphacephei.com/vosk/models and unpack as {model_path}\")\n",
    "    sys.exit()\n",
    "\n",
    "print(f\"Reading your vosk model '{model_path}'...\")\n",
    "model = Model(model_path)\n",
    "print(f\"'{model_path}' model was successfully read\")"
   ]
  },
  {
   "cell_type": "code",
   "execution_count": 5,
   "id": "e1b8ab8f",
   "metadata": {},
   "outputs": [],
   "source": [
    "import os\n",
    "video_path = input()\n",
    "if not os.path.exists(video_path):\n",
    "    print(\"Неверный путь\")\n",
    "    exit(1)"
   ]
  },
  {
   "cell_type": "code",
   "execution_count": 6,
   "id": "cae188a5",
   "metadata": {},
   "outputs": [
    {
     "name": "stdout",
     "output_type": "stream",
     "text": [
      "MoviePy - Writing audio in xd1.wav\n"
     ]
    },
    {
     "name": "stderr",
     "output_type": "stream",
     "text": [
      "                                                                      "
     ]
    },
    {
     "name": "stdout",
     "output_type": "stream",
     "text": [
      "MoviePy - Done.\n"
     ]
    },
    {
     "name": "stderr",
     "output_type": "stream",
     "text": [
      "\r"
     ]
    }
   ],
   "source": [
    "from moviepy.editor import *\n",
    "\n",
    "clip  = VideoFileClip(video_path)\n",
    "audio = clip.audio\n",
    "audio.write_audiofile('xd1.wav', ffmpeg_params=[\"-ac\", \"1\"])"
   ]
  },
  {
   "cell_type": "code",
   "execution_count": 7,
   "id": "f86cc4f4",
   "metadata": {},
   "outputs": [
    {
     "name": "stdout",
     "output_type": "stream",
     "text": [
      "Reading your file './xd1.wav'...\n",
      "'./xd1.wav' file was successfully read\n"
     ]
    }
   ],
   "source": [
    "# name of the audio file to recognize\n",
    "audio_filename = \"./xd1.wav\"\n",
    "# name of the text file to write recognized text\n",
    "text_filename = \"./speech_recognition_systems_vosk_with_timestamps.txt\"\n",
    "\n",
    "if not os.path.exists(audio_filename):\n",
    "    print(f\"File '{audio_filename}' doesn't exist\")\n",
    "    sys.exit()\n",
    "\n",
    "print(f\"Reading your file '{audio_filename}'...\")\n",
    "wf = wave.open(audio_filename, \"rb\")\n",
    "params = wf.getparams()\n",
    "wav_len = params.nframes/params.framerate\n",
    "print(f\"'{audio_filename}' file was successfully read\")\n",
    "\n",
    " # check if audio is mono wav\n",
    "if wf.getnchannels() != 1 or wf.getsampwidth() != 2 or wf.getcomptype() != \"NONE\":\n",
    "    print(\"Audio file must be WAV format mono PCM.\")\n",
    "    sys.exit()"
   ]
  },
  {
   "cell_type": "code",
   "execution_count": 8,
   "id": "54ec41b0",
   "metadata": {},
   "outputs": [],
   "source": [
    "rec = KaldiRecognizer(model, wf.getframerate())\n",
    "rec.SetWords(True)\n",
    "results = []\n",
    "# recognize speech using vosk model\n",
    "while True:\n",
    "    data = wf.readframes(4000)\n",
    "    if len(data) == 0:\n",
    "        break\n",
    "    if rec.AcceptWaveform(data):\n",
    "        part_result = json.loads(rec.Result())\n",
    "        results.append(part_result)\n",
    "\n",
    "part_result = json.loads(rec.FinalResult())\n",
    "results.append(part_result)"
   ]
  },
  {
   "cell_type": "code",
   "execution_count": 9,
   "id": "3a9e579e",
   "metadata": {},
   "outputs": [
    {
     "name": "stdout",
     "output_type": "stream",
     "text": [
      "the\n",
      "so jennifer it's time for a you to speak but let me just say by way of final introduction that we are honored to declare this jennifer garner day in hollywood\n",
      "i have never heard my name said more and them you know at awful\n",
      "thank you guys i mean truly when you are an actress in hollywood it's really all about whose wife you get to play and duty this was really just an opportunity for you to meet to the best score\n",
      "sniff brian right now snip him he's great he smells wonderful gifts davis theft to you while you're there just can\n",
      "yeah you couldn't do better and duty when it's your turn and we're all celebrating you i know that brian and steve will give you\n",
      "heartfelt loving speeches and anecdotes as well as nobody nobody could do better thank you thanks to all of you guys for your friendship and just for being here and watching me go through\n",
      "when i called my mother\n",
      "to and told her about this upcoming honor the first thing she said was well i never thought i'd have a daughter on the with a star on the walk of fame well honestly pat garner i would have been a little worried if you had thought that it's not a thing that you expect i'm sure if you asked to at the moms of the stars\n",
      "around me you know peter lawford mom the harlem grow globe trotters mom snow white's mom none of them expected it either it does come kind of as a surprise for this unexpected honor i have to take the hollywood chamber of commerce the walk of fame in these stars are they're doing so thank you\n",
      "laughs for those beautiful introductory remarks which i know my father deeply appreciated and my mother might have believed thank you to steve and to judy and to brian thank you so much after so many years working in this community i couldn't ask\n",
      "for better friends than the three of you and for supporting me and our movie pepper men and for being here thank you to stx and to lake shore\n",
      "and the actual people who work there\n",
      "all of you hear that i mean all of you boo boo you guys you guys to you but are the most special people in the world to me i hope you know that the people who work with me and the people for whom i work and my friends and my family violence sarah and sam\n",
      "hi buddy\n",
      "and my parents and my sisters my nieces and nephews a special shout out to my niece and nephew her meeting their first days of school to be here today because in the garner family fame matters more than education the obviously obviously that's not\n",
      "not true theory equal\n",
      "as people have asked me not a lot of people but if you were getting this star means to me well first of all it means had moved into a lovely nice neighborhood nestled between el capitan and hooters which offer some employment possibilities and i have some very fancy new neighbors max\n",
      "factor nice to meet you zoe saldana i'm a big fan tom cruise i also do my own stunts my star once your star to know\n",
      "how many of these people i have admired my whole life carole lombard the wonderful magical late great aretha franklin just to name to my association with these people geographic but also metaphorical seems a bigger honor than i deserve\n",
      "i've walked over so many of these stars in the past probably both of yours\n",
      "and it makes me wonder what people will think when they walk some day over mine\n",
      "strangers will think maybe of the magic of movies and that's fine it is magical\n",
      "but for my family my parents most of all when you walk over my star please don't spit your gm out\n",
      "i want you to remember i was just kidding mom i'm sorry i knew you would never do that\n",
      "that it was your non infinitely loving acceptance of me and whatever i hope for myself that made this possible thank you for caring more about who my sisters and i are than what we do\n",
      "for my children\n",
      "yeah yeah\n",
      "when you walk over this star i want you to remember first of all that i love you\n",
      "and this is about hard work and good luck\n",
      "and not a whole lot else you define me not this wonderful spot in the pavement\n",
      "also for the record don't spend too much time on hollywood boulevard\n",
      "for the people who work with me there are a lot of you here i want you to know this is about you\n",
      "for the people who fifty years from now walk over my star and say who the hell is she well what do you want from me i did the best i could\n",
      "actually the idea of being remembered it i guess is what this star is all about although it's only a reflection of the thing that matters which is our work that's what we truly hope outlast us everything we put on film i think as our way of saying we were here that we played some part it's our head\n",
      "edge against time and fading memory and now until it is jack it out i am have this thing in concrete and i am i am grateful for that\n",
      "but while i'm here the truth is everything that i love and that truly matters to me is sitting in this box over here my family both gifted to me and chosen\n",
      "my work family who play with me onset and my work family who make being on set possible my parents who are love personified my kids who make me laugh and make me proud my ladies who make working motherhood possible nicole king who somehow fits into all\n",
      "those categories steve jg brian\n",
      "hollywood chamber of commerce stx gary thank you are thank you so much i'll never forget it think the\n",
      "for\n",
      "the\n"
     ]
    }
   ],
   "source": [
    "import csv\n",
    "data = []\n",
    "file = open(\"output.csv\", \"wt\", newline='')\n",
    "writer = csv.writer(file, delimiter=',', quotechar='\"', quoting=csv.QUOTE_MINIMAL)\n",
    "writer.writerow([\"word\", \"begin\", \"end\", \"big_begin\", \"big_end\"])\n",
    "for res in results:\n",
    "    words = res['result']\n",
    "    print(res['text'])\n",
    "    for word in words:\n",
    "        if word['conf'] < 0.7:\n",
    "            continue\n",
    "        writer.writerows([[str(word['word']), str(max(0, word['start'])), str(word['end']),\n",
    "                           str(max(0, word['start'] - 5)), str(min(wav_len, word['end'] + 5))]])\n",
    "file.close()"
   ]
  }
 ],
 "metadata": {
  "kernelspec": {
   "display_name": "Python 3",
   "language": "python",
   "name": "python3"
  },
  "language_info": {
   "codemirror_mode": {
    "name": "ipython",
    "version": 3
   },
   "file_extension": ".py",
   "mimetype": "text/x-python",
   "name": "python",
   "nbconvert_exporter": "python",
   "pygments_lexer": "ipython3",
   "version": "3.8.10"
  }
 },
 "nbformat": 4,
 "nbformat_minor": 5
}
